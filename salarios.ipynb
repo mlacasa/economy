{
 "cells": [
  {
   "cell_type": "code",
   "execution_count": 1,
   "id": "f23df860-2b46-4761-b9f1-98022812a929",
   "metadata": {
    "tags": []
   },
   "outputs": [],
   "source": [
    "import pandas as pd\n",
    "import itertools\n",
    "import numpy as np"
   ]
  },
  {
   "cell_type": "code",
   "execution_count": 19,
   "id": "3cec2e6e-eb9d-402c-90ea-4b99e76f3d49",
   "metadata": {
    "tags": []
   },
   "outputs": [],
   "source": [
    "ginidf = pd.read_csv(r\"C:\\Users\\marco\\TFG\\Gini.csv\", delimiter=';')"
   ]
  },
  {
   "cell_type": "code",
   "execution_count": 15,
   "id": "460b2ec8-0313-4b51-ba73-0a2b57a17f61",
   "metadata": {
    "tags": []
   },
   "outputs": [],
   "source": [
    "cols = gini.columns[0:21]"
   ]
  },
  {
   "cell_type": "code",
   "execution_count": 16,
   "id": "a0817d76-41d8-4c41-926c-c67675b5a660",
   "metadata": {
    "tags": []
   },
   "outputs": [],
   "source": [
    "# Ahora Creamos una dataset con los valores índice Gini\n",
    "\n",
    "#define function to calculate Gini coefficient\n",
    "def gini(x):\n",
    "    total = 0\n",
    "    for i, xi in enumerate(x[:-1], 1):\n",
    "        total += np.sum(np.abs(xi - x[i:]))\n",
    "    return total / (len(x)**2 * np.mean(x))"
   ]
  },
  {
   "cell_type": "code",
   "execution_count": 20,
   "id": "f3b38a19-25d9-4bef-ae9d-aec5ff06098b",
   "metadata": {
    "tags": []
   },
   "outputs": [],
   "source": [
    "any2001 = []\n",
    "for i in range(400):\n",
    "  any2001.extend([np.array(int(ginidf.iloc[i,0+21])).tolist()]*int(ginidf.iloc[i,0]))"
   ]
  },
  {
   "cell_type": "code",
   "execution_count": 21,
   "id": "fa34dd14-f021-404d-bfe5-be86bf9dd944",
   "metadata": {
    "tags": []
   },
   "outputs": [
    {
     "data": {
      "text/plain": [
       "15871355"
      ]
     },
     "execution_count": 21,
     "metadata": {},
     "output_type": "execute_result"
    }
   ],
   "source": [
    "len(any2001)\n",
    "\n"
   ]
  },
  {
   "cell_type": "code",
   "execution_count": 22,
   "id": "6826fc26-100c-4859-b438-fa1ee25b5119",
   "metadata": {
    "tags": []
   },
   "outputs": [],
   "source": [
    "X = np.array(any2001)"
   ]
  },
  {
   "cell_type": "code",
   "execution_count": null,
   "id": "62f5736b-cf4d-4305-bd79-1d3033da5037",
   "metadata": {
    "tags": []
   },
   "outputs": [
    {
     "name": "stderr",
     "output_type": "stream",
     "text": [
      "C:\\Users\\marco\\AppData\\Local\\Temp\\ipykernel_26108\\2983145448.py:7: RuntimeWarning: overflow encountered in scalar add\n",
      "  total += np.sum(np.abs(xi - x[i:]))\n"
     ]
    }
   ],
   "source": [
    "gini(X)"
   ]
  },
  {
   "cell_type": "code",
   "execution_count": null,
   "id": "d7c70b7f-02fa-4662-94bc-5ed2de599ec6",
   "metadata": {},
   "outputs": [],
   "source": [
    "yeargini = []\n",
    "n = 0\n",
    "if n < 22:\n",
    "  l = []\n",
    "  for i in range(400):\n",
    "    l.extend([np.array(int(ginidf.iloc[i,n+21])).tolist()]*int(ginidf.iloc[i,n]))\n",
    "  X = np.array(l)\n",
    "  r = gini(X)\n",
    "  yeargini.append(r)\n",
    "  n = n+1\n",
    "\n",
    "# Guardo el resultado, porque tardará horas.\n",
    "\n",
    "with open(r'\"C:\\Users\\marco\\TFG\\giniResult.txt', 'w') as fp:\n",
    "    for item in yeargini:\n",
    "        # write each item on a new line\n",
    "        fp.write(\"%s\\n\" % item)\n",
    "    print('Done')"
   ]
  }
 ],
 "metadata": {
  "kernelspec": {
   "display_name": "Python 3 (ipykernel)",
   "language": "python",
   "name": "python3"
  },
  "language_info": {
   "codemirror_mode": {
    "name": "ipython",
    "version": 3
   },
   "file_extension": ".py",
   "mimetype": "text/x-python",
   "name": "python",
   "nbconvert_exporter": "python",
   "pygments_lexer": "ipython3",
   "version": "3.11.3"
  }
 },
 "nbformat": 4,
 "nbformat_minor": 5
}
